{
  "nbformat": 4,
  "nbformat_minor": 0,
  "metadata": {
    "colab": {
      "provenance": [],
      "authorship_tag": "ABX9TyNe4K9XhK/nXgQ1Q/JqQ61r",
      "include_colab_link": true
    },
    "kernelspec": {
      "name": "python3",
      "display_name": "Python 3"
    },
    "language_info": {
      "name": "python"
    }
  },
  "cells": [
    {
      "cell_type": "markdown",
      "metadata": {
        "id": "view-in-github",
        "colab_type": "text"
      },
      "source": [
        "<a href=\"https://colab.research.google.com/github/SakshamDataWizard/Food-wastage-system/blob/main/food_waste_app.ipynb\" target=\"_parent\"><img src=\"https://colab.research.google.com/assets/colab-badge.svg\" alt=\"Open In Colab\"/></a>"
      ]
    },
    {
      "cell_type": "code",
      "source": [],
      "metadata": {
        "id": "yR1OI_cz_vtX"
      },
      "execution_count": null,
      "outputs": []
    },
    {
      "cell_type": "code",
      "execution_count": 2,
      "metadata": {
        "colab": {
          "base_uri": "https://localhost:8080/"
        },
        "id": "PdDhjnq7BNo6",
        "outputId": "094aec8d-30ec-46d6-a9e6-19e84b785c5f"
      },
      "outputs": [
        {
          "output_type": "stream",
          "name": "stdout",
          "text": [
            "Overwriting food_waste_app.py\n"
          ]
        }
      ],
      "source": [
        "%%writefile food_waste_app.py\n",
        "import streamlit as st\n",
        "import sqlite3\n",
        "import pandas as pd\n",
        "from datetime import datetime\n",
        "\n",
        "# Database setup\n",
        "conn = sqlite3.connect('food_wastage.db')\n",
        "c = conn.cursor()\n",
        "\n",
        "# Create tables\n",
        "c.execute('''CREATE TABLE IF NOT EXISTS food_listings\n",
        "             (id INTEGER PRIMARY KEY AUTOINCREMENT,\n",
        "              donor_name TEXT,\n",
        "              food_type TEXT,\n",
        "              quantity INTEGER,\n",
        "              expiration_date DATE,\n",
        "              location TEXT,\n",
        "              listing_date DATE,\n",
        "              claimed BOOLEAN DEFAULT 0)''')\n",
        "\n",
        "c.execute('''CREATE TABLE IF NOT EXISTS claims\n",
        "             (claim_id INTEGER PRIMARY KEY AUTOINCREMENT,\n",
        "              food_id INTEGER,\n",
        "              claimant_name TEXT,\n",
        "              claim_date DATE,\n",
        "              FOREIGN KEY(food_id) REFERENCES food_listings(id))''')\n",
        "conn.commit()\n",
        "\n",
        "\n",
        "FOOD_LISTINGS_CSV_PATH = 'food_listings_data.csv'\n",
        "CLAIMS_CSV_PATH = 'claims_data.csv'\n",
        "\n",
        "# Load initial data if files exist\n",
        "try:\n",
        "    food_df = pd.read_csv(\"data/food_listings.csv\")\n",
        "    food_df.to_sql('food_listings_data.csv', conn, if_exists='append', index=False)\n",
        "\n",
        "    claims_df = pd.read_csv(\"data/claims.csv\")\n",
        "    claims_df.to_sql('claims_data.csv', conn, if_exists='append', index=False)\n",
        "except FileNotFoundError:\n",
        "    pass\n",
        "\n",
        "\n",
        "st.title(\"Local Food Wastage Management System\")\n",
        "\n",
        "# User type selection\n",
        "user_type = st.sidebar.selectbox(\"Select User Type\", [\"Donor\", \"Receiver\", \"Admin\"])\n",
        "\n",
        "if user_type == \"Donor\":\n",
        "    st.header(\"Food Donation Portal\")\n",
        "\n",
        "    with st.form(\"donation_form\"):\n",
        "        donor_name = st.text_input(\"Donor Name\")\n",
        "        food_type = st.selectbox(\"Food Type\", [\"Vegetarian\", \"Non-Vegetarian\", \"Dairy\", \"Baked Goods\"])\n",
        "        quantity = st.number_input(\"Quantity (portions)\", min_value=1)\n",
        "        expiration_date = st.date_input(\"Expiration Date\")\n",
        "        location = st.text_input(\"Pickup Location\")\n",
        "        submitted = st.form_submit_button(\"Submit Donation\")\n",
        "\n",
        "        if submitted:\n",
        "            c.execute('''INSERT INTO food_listings\n",
        "                        (donor_name, food_type, quantity, expiration_date, location, listing_date)\n",
        "                        VALUES (?,?,?,?,?,?)''',\n",
        "                     (donor_name, food_type, quantity, expiration_date, location, datetime.today().date()))\n",
        "            conn.commit()\n",
        "            st.success(\"Donation listed successfully!\")\n",
        "\n",
        "    # Show donor's previous donations\n",
        "    st.subheader(\"Your Previous Donations\")\n",
        "    donor_history = c.execute('''SELECT * FROM food_listings\n",
        "                               WHERE donor_name = ?''', (donor_name,)).fetchall()\n",
        "    if donor_history:\n",
        "        donor_df = pd.DataFrame(donor_history,\n",
        "                              columns=[\"ID\", \"Donor\", \"Type\", \"Quantity\", \"Expiration\",\n",
        "                                       \"Location\", \"Listing Date\", \"Claimed\"])\n",
        "        st.dataframe(donor_df)\n",
        "\n",
        "        # Delete or update functionality\n",
        "        selected_id = st.selectbox(\"Select donation to modify\", donor_df['ID'])\n",
        "        if st.button(\"Delete Donation\"):\n",
        "            c.execute('DELETE FROM food_listings WHERE id = ?', (selected_id,))\n",
        "            conn.commit()\n",
        "            st.success(\"Donation deleted!\")\n",
        "\n",
        "elif user_type == \"Receiver\":\n",
        "    st.header(\"Available Food Listings\")\n",
        "\n",
        "    # Filter options\n",
        "    col1, col2 = st.columns(2)\n",
        "    with col1:\n",
        "        filter_type = st.selectbox(\"Filter by Food Type\", [\"All\"] + [\"Vegetarian\", \"Non-Vegetarian\", \"Dairy\", \"Baked Goods\"])\n",
        "    with col2:\n",
        "        filter_location = st.text_input(\"Filter by Location\")\n",
        "\n",
        "    # Build query\n",
        "    query = \"SELECT * FROM food_listings WHERE claimed = 0\"\n",
        "    params = []\n",
        "\n",
        "    if filter_type != \"All\":\n",
        "        query += \" AND food_type = ?\"\n",
        "        params.append(filter_type)\n",
        "\n",
        "    if filter_location:\n",
        "        query += \" AND location LIKE ?\"\n",
        "        params.append(f\"%{filter_location}%\")\n",
        "\n",
        "    available_food = c.execute(query, params).fetchall()\n",
        "\n",
        "    if available_food:\n",
        "        food_df = pd.DataFrame(available_food,\n",
        "                             columns=[\"ID\", \"Donor\", \"Type\", \"Quantity\", \"Expiration\",\n",
        "                                      \"Location\", \"Listing Date\", \"Claimed\"])\n",
        "        st.dataframe(food_df)\n",
        "\n",
        "        # Claim functionality\n",
        "        selected_id = st.selectbox(\"Select food to claim\", food_df['ID'])\n",
        "        claimant_name = st.text_input(\"Your Name\")\n",
        "\n",
        "        if st.button(\"Claim Food\"):\n",
        "            c.execute('UPDATE food_listings SET claimed = 1 WHERE id = ?', (selected_id,))\n",
        "            c.execute('INSERT INTO claims (food_id, claimant_name, claim_date) VALUES (?,?,?)',\n",
        "                     (selected_id, claimant_name, datetime.today().date()))\n",
        "            conn.commit()\n",
        "            st.success(\"Food claimed successfully!\")\n",
        "    else:\n",
        "        st.warning(\"No available food matching your criteria.\")\n",
        "\n",
        "elif user_type == \"Admin\":\n",
        "    st.header(\"Administration Dashboard\")\n",
        "\n",
        "    # Show all data\n",
        "    st.subheader(\"All Food Listings\")\n",
        "    full_data = pd.read_sql('SELECT * FROM food_listings', conn)\n",
        "    st.dataframe(full_data)\n",
        "\n",
        "    st.subheader(\"All Claims\")\n",
        "    claims_data = pd.read_sql('SELECT * FROM claims', conn)\n",
        "    st.dataframe(claims_data)\n",
        "\n",
        "    # Visualizations\n",
        "    st.subheader(\"Food Distribution Analysis\")\n",
        "\n",
        "    col1, col2 = st.columns(2)\n",
        "    with col1:\n",
        "        type_dist = pd.read_sql('''SELECT food_type, SUM(quantity) as total_portions\n",
        "                                  FROM food_listings GROUP BY food_type''', conn)\n",
        "        st.bar_chart(type_dist.set_index('food_type'))\n",
        "\n",
        "    with col2:\n",
        "        location_dist = pd.read_sql('''SELECT location, COUNT(*) as listings\n",
        "                                      FROM food_listings GROUP BY location''', conn)\n",
        "        st.write(\"Listings by Location\")\n",
        "        st.dataframe(location_dist)\n",
        "\n",
        "    # Map visualization (requires latitude/longitude data)\n",
        "    # st.map()  # You would need to add geocoding functionality here\n",
        "\n",
        "conn.close()"
      ]
    },
    {
      "cell_type": "code",
      "source": [
        "!pip install streamlit pandas"
      ],
      "metadata": {
        "colab": {
          "base_uri": "https://localhost:8080/"
        },
        "id": "drNnKdxsGQ6H",
        "outputId": "4b9538c3-5d94-42cf-b7dd-d0804855f487"
      },
      "execution_count": 7,
      "outputs": [
        {
          "output_type": "stream",
          "name": "stdout",
          "text": [
            "Collecting streamlit\n",
            "  Downloading streamlit-1.44.1-py3-none-any.whl.metadata (8.9 kB)\n",
            "Requirement already satisfied: pandas in /usr/local/lib/python3.11/dist-packages (2.2.2)\n",
            "Requirement already satisfied: altair<6,>=4.0 in /usr/local/lib/python3.11/dist-packages (from streamlit) (5.5.0)\n",
            "Requirement already satisfied: blinker<2,>=1.0.0 in /usr/local/lib/python3.11/dist-packages (from streamlit) (1.9.0)\n",
            "Requirement already satisfied: cachetools<6,>=4.0 in /usr/local/lib/python3.11/dist-packages (from streamlit) (5.5.2)\n",
            "Requirement already satisfied: click<9,>=7.0 in /usr/local/lib/python3.11/dist-packages (from streamlit) (8.1.8)\n",
            "Requirement already satisfied: numpy<3,>=1.23 in /usr/local/lib/python3.11/dist-packages (from streamlit) (2.0.2)\n",
            "Requirement already satisfied: packaging<25,>=20 in /usr/local/lib/python3.11/dist-packages (from streamlit) (24.2)\n",
            "Requirement already satisfied: pillow<12,>=7.1.0 in /usr/local/lib/python3.11/dist-packages (from streamlit) (11.1.0)\n",
            "Requirement already satisfied: protobuf<6,>=3.20 in /usr/local/lib/python3.11/dist-packages (from streamlit) (5.29.4)\n",
            "Requirement already satisfied: pyarrow>=7.0 in /usr/local/lib/python3.11/dist-packages (from streamlit) (18.1.0)\n",
            "Requirement already satisfied: requests<3,>=2.27 in /usr/local/lib/python3.11/dist-packages (from streamlit) (2.32.3)\n",
            "Requirement already satisfied: tenacity<10,>=8.1.0 in /usr/local/lib/python3.11/dist-packages (from streamlit) (9.1.2)\n",
            "Requirement already satisfied: toml<2,>=0.10.1 in /usr/local/lib/python3.11/dist-packages (from streamlit) (0.10.2)\n",
            "Requirement already satisfied: typing-extensions<5,>=4.4.0 in /usr/local/lib/python3.11/dist-packages (from streamlit) (4.13.1)\n",
            "Collecting watchdog<7,>=2.1.5 (from streamlit)\n",
            "  Downloading watchdog-6.0.0-py3-none-manylinux2014_x86_64.whl.metadata (44 kB)\n",
            "\u001b[2K     \u001b[90m━━━━━━━━━━━━━━━━━━━━━━━━━━━━━━━━━━━━━━━━\u001b[0m \u001b[32m44.3/44.3 kB\u001b[0m \u001b[31m2.9 MB/s\u001b[0m eta \u001b[36m0:00:00\u001b[0m\n",
            "\u001b[?25hRequirement already satisfied: gitpython!=3.1.19,<4,>=3.0.7 in /usr/local/lib/python3.11/dist-packages (from streamlit) (3.1.44)\n",
            "Collecting pydeck<1,>=0.8.0b4 (from streamlit)\n",
            "  Downloading pydeck-0.9.1-py2.py3-none-any.whl.metadata (4.1 kB)\n",
            "Requirement already satisfied: tornado<7,>=6.0.3 in /usr/local/lib/python3.11/dist-packages (from streamlit) (6.4.2)\n",
            "Requirement already satisfied: python-dateutil>=2.8.2 in /usr/local/lib/python3.11/dist-packages (from pandas) (2.8.2)\n",
            "Requirement already satisfied: pytz>=2020.1 in /usr/local/lib/python3.11/dist-packages (from pandas) (2025.2)\n",
            "Requirement already satisfied: tzdata>=2022.7 in /usr/local/lib/python3.11/dist-packages (from pandas) (2025.2)\n",
            "Requirement already satisfied: jinja2 in /usr/local/lib/python3.11/dist-packages (from altair<6,>=4.0->streamlit) (3.1.6)\n",
            "Requirement already satisfied: jsonschema>=3.0 in /usr/local/lib/python3.11/dist-packages (from altair<6,>=4.0->streamlit) (4.23.0)\n",
            "Requirement already satisfied: narwhals>=1.14.2 in /usr/local/lib/python3.11/dist-packages (from altair<6,>=4.0->streamlit) (1.34.1)\n",
            "Requirement already satisfied: gitdb<5,>=4.0.1 in /usr/local/lib/python3.11/dist-packages (from gitpython!=3.1.19,<4,>=3.0.7->streamlit) (4.0.12)\n",
            "Requirement already satisfied: six>=1.5 in /usr/local/lib/python3.11/dist-packages (from python-dateutil>=2.8.2->pandas) (1.17.0)\n",
            "Requirement already satisfied: charset-normalizer<4,>=2 in /usr/local/lib/python3.11/dist-packages (from requests<3,>=2.27->streamlit) (3.4.1)\n",
            "Requirement already satisfied: idna<4,>=2.5 in /usr/local/lib/python3.11/dist-packages (from requests<3,>=2.27->streamlit) (3.10)\n",
            "Requirement already satisfied: urllib3<3,>=1.21.1 in /usr/local/lib/python3.11/dist-packages (from requests<3,>=2.27->streamlit) (2.3.0)\n",
            "Requirement already satisfied: certifi>=2017.4.17 in /usr/local/lib/python3.11/dist-packages (from requests<3,>=2.27->streamlit) (2025.1.31)\n",
            "Requirement already satisfied: smmap<6,>=3.0.1 in /usr/local/lib/python3.11/dist-packages (from gitdb<5,>=4.0.1->gitpython!=3.1.19,<4,>=3.0.7->streamlit) (5.0.2)\n",
            "Requirement already satisfied: MarkupSafe>=2.0 in /usr/local/lib/python3.11/dist-packages (from jinja2->altair<6,>=4.0->streamlit) (3.0.2)\n",
            "Requirement already satisfied: attrs>=22.2.0 in /usr/local/lib/python3.11/dist-packages (from jsonschema>=3.0->altair<6,>=4.0->streamlit) (25.3.0)\n",
            "Requirement already satisfied: jsonschema-specifications>=2023.03.6 in /usr/local/lib/python3.11/dist-packages (from jsonschema>=3.0->altair<6,>=4.0->streamlit) (2024.10.1)\n",
            "Requirement already satisfied: referencing>=0.28.4 in /usr/local/lib/python3.11/dist-packages (from jsonschema>=3.0->altair<6,>=4.0->streamlit) (0.36.2)\n",
            "Requirement already satisfied: rpds-py>=0.7.1 in /usr/local/lib/python3.11/dist-packages (from jsonschema>=3.0->altair<6,>=4.0->streamlit) (0.24.0)\n",
            "Downloading streamlit-1.44.1-py3-none-any.whl (9.8 MB)\n",
            "\u001b[2K   \u001b[90m━━━━━━━━━━━━━━━━━━━━━━━━━━━━━━━━━━━━━━━━\u001b[0m \u001b[32m9.8/9.8 MB\u001b[0m \u001b[31m54.3 MB/s\u001b[0m eta \u001b[36m0:00:00\u001b[0m\n",
            "\u001b[?25hDownloading pydeck-0.9.1-py2.py3-none-any.whl (6.9 MB)\n",
            "\u001b[2K   \u001b[90m━━━━━━━━━━━━━━━━━━━━━━━━━━━━━━━━━━━━━━━━\u001b[0m \u001b[32m6.9/6.9 MB\u001b[0m \u001b[31m94.3 MB/s\u001b[0m eta \u001b[36m0:00:00\u001b[0m\n",
            "\u001b[?25hDownloading watchdog-6.0.0-py3-none-manylinux2014_x86_64.whl (79 kB)\n",
            "\u001b[2K   \u001b[90m━━━━━━━━━━━━━━━━━━━━━━━━━━━━━━━━━━━━━━━━\u001b[0m \u001b[32m79.1/79.1 kB\u001b[0m \u001b[31m6.7 MB/s\u001b[0m eta \u001b[36m0:00:00\u001b[0m\n",
            "\u001b[?25hInstalling collected packages: watchdog, pydeck, streamlit\n",
            "Successfully installed pydeck-0.9.1 streamlit-1.44.1 watchdog-6.0.0\n"
          ]
        }
      ]
    },
    {
      "cell_type": "code",
      "source": [
        "!wget -q -O - ipv4.icanhazip.com"
      ],
      "metadata": {
        "colab": {
          "base_uri": "https://localhost:8080/"
        },
        "id": "jKYAfsvRABZ_",
        "outputId": "705b15bf-d9bf-48fb-9a7c-341237d916d6"
      },
      "execution_count": 3,
      "outputs": [
        {
          "output_type": "stream",
          "name": "stdout",
          "text": [
            "34.125.247.62\n"
          ]
        }
      ]
    },
    {
      "cell_type": "code",
      "source": [
        "! streamlit run food_waste_app.py & npx localtunnel --port 8501\n"
      ],
      "metadata": {
        "colab": {
          "base_uri": "https://localhost:8080/"
        },
        "id": "rOIrhsZ_HoC8",
        "outputId": "bf3e5a99-6aef-40b1-ba56-3295b8dd6a1e"
      },
      "execution_count": 8,
      "outputs": [
        {
          "output_type": "stream",
          "name": "stdout",
          "text": [
            "\u001b[1G\u001b[0K⠙\u001b[1G\u001b[0K⠹\u001b[1G\u001b[0K⠸\u001b[1G\u001b[0K⠼\u001b[1G\u001b[0K⠴\u001b[1G\u001b[0K⠦\u001b[1G\u001b[0K⠧\u001b[1G\u001b[0K⠇\n",
            "Collecting usage statistics. To deactivate, set browser.gatherUsageStats to false.\n",
            "\u001b[0m\n",
            "\u001b[1G\u001b[0K⠏\u001b[1G\u001b[0K⠋\u001b[1G\u001b[0K\u001b[1G\u001b[0JNeed to install the following packages:\n",
            "localtunnel@2.0.2\n",
            "Ok to proceed? (y) \u001b[20G\u001b[0m\n",
            "\u001b[34m\u001b[1m  You can now view your Streamlit app in your browser.\u001b[0m\n",
            "\u001b[0m\n",
            "\u001b[34m  Local URL: \u001b[0m\u001b[1mhttp://localhost:8501\u001b[0m\n",
            "\u001b[34m  Network URL: \u001b[0m\u001b[1mhttp://172.28.0.12:8501\u001b[0m\n",
            "\u001b[34m  External URL: \u001b[0m\u001b[1mhttp://34.125.247.62:8501\u001b[0m\n",
            "\u001b[0m\n",
            "y\n",
            "\n",
            "\u001b[1G\u001b[0K⠙\u001b[1G\u001b[0K⠹\u001b[1G\u001b[0K⠸\u001b[1G\u001b[0K⠼\u001b[1G\u001b[0K⠴\u001b[1G\u001b[0K⠦\u001b[1G\u001b[0K⠧\u001b[1G\u001b[0K⠇\u001b[1G\u001b[0K⠏\u001b[1G\u001b[0K⠋\u001b[1G\u001b[0K⠙\u001b[1G\u001b[0K⠹\u001b[1G\u001b[0K⠸\u001b[1G\u001b[0K⠼\u001b[1G\u001b[0K⠴\u001b[1G\u001b[0K⠦\u001b[1G\u001b[0K⠧\u001b[1G\u001b[0K⠇\u001b[1G\u001b[0K⠏\u001b[1G\u001b[0K⠋\u001b[1G\u001b[0K⠙\u001b[1G\u001b[0K⠹\u001b[1G\u001b[0K⠸\u001b[1G\u001b[0K⠼\u001b[1G\u001b[0K⠴\u001b[1G\u001b[0K⠦\u001b[1G\u001b[0K⠧\u001b[1G\u001b[0K⠇\u001b[1G\u001b[0K⠏\u001b[1G\u001b[0K⠋\u001b[1G\u001b[0K⠙\u001b[1G\u001b[0K⠹\u001b[1G\u001b[0K⠸\u001b[1G\u001b[0Kyour url is: https://young-words-judge.loca.lt\n",
            "\u001b[34m  Stopping...\u001b[0m\n",
            "^C\n"
          ]
        }
      ]
    }
  ]
}