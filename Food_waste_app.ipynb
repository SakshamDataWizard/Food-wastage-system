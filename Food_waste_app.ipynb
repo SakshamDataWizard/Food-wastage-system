{
 "cells": [
  {
   "cell_type": "code",
   "execution_count": 2,
   "metadata": {},
   "outputs": [],
   "source": [
    "import sqlite3\n",
    "import pandas as pd"
   ]
  },
  {
   "cell_type": "code",
   "execution_count": 3,
   "metadata": {},
   "outputs": [],
   "source": [
    "providers = pd.read_csv(\"providers_data.csv\")\n",
    "receivers = pd.read_csv(\"receivers_data.csv\")\n",
    "food_listings = pd.read_csv(\"food_listings_data.csv\")\n",
    "claims = pd.read_csv(\"claims_data.csv\")"
   ]
  },
  {
   "cell_type": "code",
   "execution_count": 4,
   "metadata": {},
   "outputs": [],
   "source": [
    "conn = sqlite3.connect(\"food_wastage.db\")\n",
    "cursor = conn.cursor()"
   ]
  },
  {
   "cell_type": "code",
   "execution_count": 58,
   "metadata": {},
   "outputs": [
    {
     "data": {
      "text/plain": [
       "<sqlite3.Cursor at 0x250dda15440>"
      ]
     },
     "execution_count": 58,
     "metadata": {},
     "output_type": "execute_result"
    }
   ],
   "source": [
    "cursor.execute('''\n",
    "    CREATE TABLE IF NOT EXISTS providers (\n",
    "        Provider_ID INTEGER PRIMARY KEY,\n",
    "        Name TEXT,\n",
    "        Type TEXT,\n",
    "        Address TEXT,\n",
    "        City TEXT,\n",
    "        Contact TEXT\n",
    "    )\n",
    "''')"
   ]
  },
  {
   "cell_type": "code",
   "execution_count": 60,
   "metadata": {},
   "outputs": [
    {
     "ename": "ModuleNotFoundError",
     "evalue": "No module named 'mysql'",
     "output_type": "error",
     "traceback": [
      "\u001b[31m---------------------------------------------------------------------------\u001b[39m",
      "\u001b[31mModuleNotFoundError\u001b[39m                       Traceback (most recent call last)",
      "\u001b[36mCell\u001b[39m\u001b[36m \u001b[39m\u001b[32mIn[60]\u001b[39m\u001b[32m, line 1\u001b[39m\n\u001b[32m----> \u001b[39m\u001b[32m1\u001b[39m \u001b[38;5;28;01mimport\u001b[39;00m\u001b[38;5;250m \u001b[39m\u001b[34;01mmysql\u001b[39;00m\u001b[34;01m.\u001b[39;00m\u001b[34;01mconn\u001b[39;00m\n",
      "\u001b[31mModuleNotFoundError\u001b[39m: No module named 'mysql'"
     ]
    }
   ],
   "source": [
    "import mysql.conn"
   ]
  },
  {
   "cell_type": "code",
   "execution_count": 61,
   "metadata": {},
   "outputs": [
    {
     "ename": "NameError",
     "evalue": "name 'mysql' is not defined",
     "output_type": "error",
     "traceback": [
      "\u001b[31m---------------------------------------------------------------------------\u001b[39m",
      "\u001b[31mNameError\u001b[39m                                 Traceback (most recent call last)",
      "\u001b[36mCell\u001b[39m\u001b[36m \u001b[39m\u001b[32mIn[61]\u001b[39m\u001b[32m, line 1\u001b[39m\n\u001b[32m----> \u001b[39m\u001b[32m1\u001b[39m conn = \u001b[43mmysql\u001b[49m.connector.connect(\n\u001b[32m      2\u001b[39m     host=\u001b[33m\"\u001b[39m\u001b[33mlocalhost\u001b[39m\u001b[33m\"\u001b[39m,\n\u001b[32m      3\u001b[39m     user=\u001b[33m\"\u001b[39m\u001b[33mroot\u001b[39m\u001b[33m\"\u001b[39m,\n\u001b[32m      4\u001b[39m     password=\u001b[33m\"\u001b[39m\u001b[33m12345\u001b[39m\u001b[33m\"\u001b[39m,\n\u001b[32m      5\u001b[39m \n\u001b[32m      6\u001b[39m )\n\u001b[32m      7\u001b[39m cursor = conn.cursor()\n",
      "\u001b[31mNameError\u001b[39m: name 'mysql' is not defined"
     ]
    }
   ],
   "source": [
    "conn = mysql.connector.connect(\n",
    "    host=\"localhost\",\n",
    "    user=\"root\",\n",
    "    password=\"12345\",\n",
    "    \n",
    ")\n",
    "cursor = conn.cursor()"
   ]
  },
  {
   "cell_type": "code",
   "execution_count": 62,
   "metadata": {},
   "outputs": [
    {
     "ename": "OperationalError",
     "evalue": "near \"DATABASE\": syntax error",
     "output_type": "error",
     "traceback": [
      "\u001b[31m---------------------------------------------------------------------------\u001b[39m",
      "\u001b[31mOperationalError\u001b[39m                          Traceback (most recent call last)",
      "\u001b[36mCell\u001b[39m\u001b[36m \u001b[39m\u001b[32mIn[62]\u001b[39m\u001b[32m, line 1\u001b[39m\n\u001b[32m----> \u001b[39m\u001b[32m1\u001b[39m \u001b[43mcursor\u001b[49m\u001b[43m.\u001b[49m\u001b[43mexecute\u001b[49m\u001b[43m(\u001b[49m\u001b[33;43m\"\u001b[39;49m\u001b[33;43mCREATE DATABASE IF NOT EXISTS food_data\u001b[39;49m\u001b[33;43m\"\u001b[39;49m\u001b[43m)\u001b[49m\n\u001b[32m      2\u001b[39m \u001b[38;5;28mprint\u001b[39m(\u001b[33m\"\u001b[39m\u001b[33mMySQL database \u001b[39m\u001b[33m'\u001b[39m\u001b[33mfood_data\u001b[39m\u001b[33m'\u001b[39m\u001b[33m created successfully!\u001b[39m\u001b[33m\"\u001b[39m)\n",
      "\u001b[31mOperationalError\u001b[39m: near \"DATABASE\": syntax error"
     ]
    }
   ],
   "source": [
    "cursor.execute(\"CREATE DATABASE IF NOT EXISTS food_data\")\n",
    "print(\"MySQL database 'food_data' created successfully!\")\n"
   ]
  },
  {
   "cell_type": "code",
   "execution_count": 64,
   "metadata": {},
   "outputs": [
    {
     "ename": "OperationalError",
     "evalue": "near \"use\": syntax error",
     "output_type": "error",
     "traceback": [
      "\u001b[31m---------------------------------------------------------------------------\u001b[39m",
      "\u001b[31mOperationalError\u001b[39m                          Traceback (most recent call last)",
      "\u001b[36mCell\u001b[39m\u001b[36m \u001b[39m\u001b[32mIn[64]\u001b[39m\u001b[32m, line 1\u001b[39m\n\u001b[32m----> \u001b[39m\u001b[32m1\u001b[39m \u001b[43mcursor\u001b[49m\u001b[43m.\u001b[49m\u001b[43mexecute\u001b[49m\u001b[43m(\u001b[49m\u001b[33;43m\"\u001b[39;49m\u001b[33;43muse food_data\u001b[39;49m\u001b[33;43m\"\u001b[39;49m\u001b[43m)\u001b[49m\n",
      "\u001b[31mOperationalError\u001b[39m: near \"use\": syntax error"
     ]
    }
   ],
   "source": [
    "cursor.execute(\"use food_data\")"
   ]
  },
  {
   "cell_type": "code",
   "execution_count": 65,
   "metadata": {},
   "outputs": [],
   "source": [
    "cursor.execute(\"\"\"\n",
    "    CREATE TABLE IF NOT EXISTS providers (\n",
    "        Provider_ID INT PRIMARY KEY,\n",
    "        Name VARCHAR(255),\n",
    "        Type VARCHAR(100),\n",
    "        Address TEXT,\n",
    "        City VARCHAR(100),\n",
    "        Contact VARCHAR(50)\n",
    "    )\n",
    "\"\"\")\n",
    "conn.commit()"
   ]
  },
  {
   "cell_type": "code",
   "execution_count": 66,
   "metadata": {},
   "outputs": [
    {
     "ename": "OperationalError",
     "evalue": "near \"%\": syntax error",
     "output_type": "error",
     "traceback": [
      "\u001b[31m---------------------------------------------------------------------------\u001b[39m",
      "\u001b[31mOperationalError\u001b[39m                          Traceback (most recent call last)",
      "\u001b[36mCell\u001b[39m\u001b[36m \u001b[39m\u001b[32mIn[66]\u001b[39m\u001b[32m, line 2\u001b[39m\n\u001b[32m      1\u001b[39m \u001b[38;5;28;01mfor\u001b[39;00m index, row \u001b[38;5;129;01min\u001b[39;00m providers.iterrows():\n\u001b[32m----> \u001b[39m\u001b[32m2\u001b[39m     \u001b[43mcursor\u001b[49m\u001b[43m.\u001b[49m\u001b[43mexecute\u001b[49m\u001b[43m(\u001b[49m\u001b[33;43m\"\"\"\u001b[39;49m\n\u001b[32m      3\u001b[39m \u001b[33;43m        INSERT INTO providers (Provider_ID, Name, Type, Address, City, Contact) \u001b[39;49m\n\u001b[32m      4\u001b[39m \u001b[33;43m        VALUES (\u001b[39;49m\u001b[38;5;132;43;01m%s\u001b[39;49;00m\u001b[33;43m, \u001b[39;49m\u001b[38;5;132;43;01m%s\u001b[39;49;00m\u001b[33;43m, \u001b[39;49m\u001b[38;5;132;43;01m%s\u001b[39;49;00m\u001b[33;43m, \u001b[39;49m\u001b[38;5;132;43;01m%s\u001b[39;49;00m\u001b[33;43m, \u001b[39;49m\u001b[38;5;132;43;01m%s\u001b[39;49;00m\u001b[33;43m, \u001b[39;49m\u001b[38;5;132;43;01m%s\u001b[39;49;00m\u001b[33;43m)\u001b[39;49m\n\u001b[32m      5\u001b[39m \u001b[33;43m    \u001b[39;49m\u001b[33;43m\"\"\"\u001b[39;49m\u001b[43m,\u001b[49m\u001b[43m \u001b[49m\u001b[38;5;28;43mtuple\u001b[39;49m\u001b[43m(\u001b[49m\u001b[43mrow\u001b[49m\u001b[43m)\u001b[49m\u001b[43m)\u001b[49m\n",
      "\u001b[31mOperationalError\u001b[39m: near \"%\": syntax error"
     ]
    }
   ],
   "source": [
    "for index, row in providers.iterrows():\n",
    "    cursor.execute(\"\"\"\n",
    "        INSERT INTO providers (Provider_ID, Name, Type, Address, City, Contact) \n",
    "        VALUES (%s, %s, %s, %s, %s, %s)\n",
    "    \"\"\", tuple(row))"
   ]
  },
  {
   "cell_type": "code",
   "execution_count": 5,
   "metadata": {},
   "outputs": [
    {
     "data": {
      "text/html": [
       "<div>\n",
       "<style scoped>\n",
       "    .dataframe tbody tr th:only-of-type {\n",
       "        vertical-align: middle;\n",
       "    }\n",
       "\n",
       "    .dataframe tbody tr th {\n",
       "        vertical-align: top;\n",
       "    }\n",
       "\n",
       "    .dataframe thead th {\n",
       "        text-align: right;\n",
       "    }\n",
       "</style>\n",
       "<table border=\"1\" class=\"dataframe\">\n",
       "  <thead>\n",
       "    <tr style=\"text-align: right;\">\n",
       "      <th></th>\n",
       "      <th>City</th>\n",
       "      <th>Provider_Count</th>\n",
       "    </tr>\n",
       "  </thead>\n",
       "  <tbody>\n",
       "  </tbody>\n",
       "</table>\n",
       "</div>"
      ],
      "text/plain": [
       "Empty DataFrame\n",
       "Columns: [City, Provider_Count]\n",
       "Index: []"
      ]
     },
     "execution_count": 5,
     "metadata": {},
     "output_type": "execute_result"
    }
   ],
   "source": [
    "query = \"\"\"\n",
    "    SELECT City, COUNT(*) AS Provider_Count\n",
    "    FROM providers\n",
    "    GROUP BY City\n",
    "    ORDER BY Provider_Count DESC\n",
    "    LIMIT 1;\n",
    "\"\"\"\n",
    "\n",
    "cursor.execute(query)\n",
    "result = cursor.fetchall()\n",
    "\n",
    "# Convert result into a DataFrame for better readability\n",
    "df = pd.DataFrame(result, columns=[\"City\", \"Provider_Count\"])\n",
    "df"
   ]
  },
  {
   "cell_type": "code",
   "execution_count": 68,
   "metadata": {},
   "outputs": [
    {
     "name": "stdout",
     "output_type": "stream",
     "text": [
      "Writing foods_app.py\n"
     ]
    }
   ],
   "source": [
    "%%writefile foods_app.py\n",
    "import streamlit as st \n",
    "\n",
    "st.title(\"This is my project\")\n",
    "\n",
    "st.header(\"This is a header\")\n",
    "st.subheader(\"This is a subheader\")\n",
    "\n",
    "\n",
    "st.text(\"This is plain text\")\n",
    "st.markdown(\"### This is a markdown text\")\n",
    "\n",
    "\n",
    "# Input Widgets\n",
    "name = st.text_input(\"Enter your name\")\n",
    "feedback = st.text_area(\"Provide your feedback\")\n",
    "\n",
    "\n",
    "\n",
    "# Buttons and Checkboxes\n",
    "if st.button(\"Submit\"):\n",
    "    st.success(f\"Hello {name}, thanks for your feedback!\")\n",
    "\n",
    "\n",
    "agree = st.checkbox(\"I agree to the terms and conditions\")\n",
    "if agree:\n",
    "    st.write(\"You agreed!\")\n",
    "\n",
    "choice = st.radio(\"Choose an option:\", [\"Option 1\", \"Option 2\", \"Option 3\"])\n",
    "st.write(f\"You selected: {choice}\")\n",
    "\n",
    "# Selectbox and Multiselect\n",
    "color = st.selectbox(\"Select a color\", [\"Red\", \"Green\", \"Blue\"])\n",
    "st.write(f\"You chose: {color}\")\n",
    "\n",
    "hobbies = st.multiselect(\"Select your hobbies\", [\"Reading\", \"Coding\", \"Gaming\"])\n",
    "st.write(f\"Your hobbies: {', '.join(hobbies)}\")\n",
    "\n",
    "# Sliders and Number Input\n",
    "age = st.slider(\"Select your age\", 1, 100, 25)\n",
    "st.write(f\"Your age is: {age}\")\n"
   ]
  },
  {
   "cell_type": "code",
   "execution_count": 69,
   "metadata": {},
   "outputs": [
    {
     "name": "stdout",
     "output_type": "stream",
     "text": [
      "^C\n"
     ]
    }
   ],
   "source": [
    "!streamlit run foods_app.py"
   ]
  }
 ],
 "metadata": {
  "kernelspec": {
   "display_name": "Python 3",
   "language": "python",
   "name": "python3"
  },
  "language_info": {
   "codemirror_mode": {
    "name": "ipython",
    "version": 3
   },
   "file_extension": ".py",
   "mimetype": "text/x-python",
   "name": "python",
   "nbconvert_exporter": "python",
   "pygments_lexer": "ipython3",
   "version": "3.13.1"
  }
 },
 "nbformat": 4,
 "nbformat_minor": 2
}
